{
 "cells": [
  {
   "cell_type": "markdown",
   "metadata": {
    "application/vnd.databricks.v1+cell": {
     "cellMetadata": {},
     "inputWidgets": {},
     "nuid": "f406c687-0c7f-45ae-8fbe-84bce2320d40",
     "showTitle": false,
     "tableResultSettingsMap": {},
     "title": ""
    }
   },
   "source": [
    "# Criando Catalog\n",
    "- O \"Catalog\" é o nível mais alto de organização no Unity Catalog.\n",
    "- Ele representa uma coleção de schemas (databases) e tabelas dentro de um mesmo domínio lógico.\n",
    "- É como uma \"instância\" de dados dentro do Databricks, usada para separar ambientes (ex: DEV, QAS, PRD)\n",
    "- ou domínios (ex: comercial, financeiro, industrial).\n",
    "- O comando abaixo cria o catálogo \"demo_catalog\" se ele ainda não existir."
   ]
  },
  {
   "cell_type": "code",
   "execution_count": 0,
   "metadata": {
    "application/vnd.databricks.v1+cell": {
     "cellMetadata": {
      "byteLimit": 2048000,
      "implicitDf": true,
      "rowLimit": 10000
     },
     "inputWidgets": {},
     "nuid": "6c59f7fd-0c67-497a-80cc-fbd5227be03e",
     "showTitle": false,
     "tableResultSettingsMap": {},
     "title": ""
    }
   },
   "outputs": [],
   "source": [
    "%sql\n",
    "create catalog if not exists demo_catalog\n",
    "comment 'Catalog de estudo'"
   ]
  },
  {
   "cell_type": "markdown",
   "metadata": {
    "application/vnd.databricks.v1+cell": {
     "cellMetadata": {},
     "inputWidgets": {},
     "nuid": "a4002d85-cf46-4380-95ff-f64b9d6d2a75",
     "showTitle": false,
     "tableResultSettingsMap": {},
     "title": ""
    }
   },
   "source": [
    "# Criando Schema (database) no Catalog\n",
    "- Dentro de cada Catalog, criamos Schemas (ou Databases) para organizar as tabelas.\n",
    "- O Schema \"bronze\" segue a arquitetura medallion (Bronze, Silver, Gold).\n",
    "- Aqui armazenaremos os dados brutos, exatamente como foram ingeridos das fontes originais.\n",
    "- O comando cria o schema \"demo_catalog.bronze\" caso ele não exista."
   ]
  },
  {
   "cell_type": "code",
   "execution_count": 0,
   "metadata": {
    "application/vnd.databricks.v1+cell": {
     "cellMetadata": {
      "byteLimit": 2048000,
      "implicitDf": true,
      "rowLimit": 10000
     },
     "inputWidgets": {},
     "nuid": "e417c8ab-d859-46f6-be44-25301dee9a6b",
     "showTitle": false,
     "tableResultSettingsMap": {},
     "title": ""
    }
   },
   "outputs": [],
   "source": [
    "%sql\n",
    "create schema if not exists demo_catalog.bronze\n",
    "comment 'Schema Bronze para os dados brutos'"
   ]
  },
  {
   "cell_type": "code",
   "execution_count": 0,
   "metadata": {
    "application/vnd.databricks.v1+cell": {
     "cellMetadata": {
      "byteLimit": 2048000,
      "implicitDf": true,
      "rowLimit": 10000
     },
     "inputWidgets": {},
     "nuid": "f8a7d759-132c-4989-8dd0-0825e44a2738",
     "showTitle": false,
     "tableResultSettingsMap": {},
     "title": ""
    }
   },
   "outputs": [],
   "source": [
    "%sql\n",
    "create schema if not exists demo_catalog.silver\n",
    "comment 'Schema Silver para dados tratados'"
   ]
  },
  {
   "cell_type": "code",
   "execution_count": 0,
   "metadata": {
    "application/vnd.databricks.v1+cell": {
     "cellMetadata": {
      "byteLimit": 2048000,
      "implicitDf": true,
      "rowLimit": 10000
     },
     "inputWidgets": {},
     "nuid": "4554106b-756b-4ab0-b227-9eee227cf72b",
     "showTitle": false,
     "tableResultSettingsMap": {},
     "title": ""
    }
   },
   "outputs": [],
   "source": [
    "%sql\n",
    "create schema if not exists demo_catalog.gold\n",
    "comment 'Schema Gold para dados agregados que serão utilizados pelas áreas de negócio'"
   ]
  },
  {
   "cell_type": "markdown",
   "metadata": {
    "application/vnd.databricks.v1+cell": {
     "cellMetadata": {},
     "inputWidgets": {},
     "nuid": "30715989-539b-462b-a853-97a5d8937af4",
     "showTitle": false,
     "tableResultSettingsMap": {},
     "title": ""
    }
   },
   "source": [
    "# Criando Tabelas, Views, Volumes, Functions e Models\n",
    "\n",
    "Dentro de cada **Schema** do Unity Catalog, podemos criar diferentes tipos de **objetos de dados e processamento**.  \n",
    "Esses objetos formam a base do Lakehouse e representam o ciclo completo da ingestão ao consumo analítico.\n",
    "\n",
    "---\n",
    "\n",
    "\n",
    "Essa estrutura garante:\n",
    "\n",
    "- **Isolamento lógico** entre ambientes (DEV, QAS, PRD) ou domínios (financeiro, logística, comercial);\n",
    "- **Governança centralizada** de acessos e permissões (ACLs);\n",
    "- **Auditoria e lineage automáticos**, registrando quem criou, modificou e consultou os objetos;\n",
    "- **Consistência e versionamento** de dados.\n",
    "\n",
    "---\n",
    "\n",
    "## Tabelas (Tables)\n",
    "\n",
    "As **tabelas** são os principais objetos de armazenamento de dados.  \n",
    "Elas podem conter dados **estruturados** (como colunas e linhas) e são integradas ao Delta Lake para garantir confiabilidade e performance.\n",
    "\n",
    "### Tipos de tabelas:\n",
    "- **Managed Tables**: o Databricks gerencia tanto os metadados quanto a localização física dos arquivos.  \n",
    "- **External Tables**: a tabela referencia arquivos já existentes em um local externo (por exemplo, um caminho no Data Lake).\n",
    "\n",
    "Essas tabelas herdam automaticamente as políticas de segurança e controle de acesso definidas no Unity Catalog, além de participar do lineage e da auditoria.\n",
    "\n",
    "---\n",
    "\n",
    "## Views\n",
    "\n",
    "As **Views** são representações lógicas dos dados, baseadas em consultas SQL sobre tabelas existentes.  \n",
    "Elas não armazenam fisicamente os dados, mas permitem criar **camadas virtuais** com regras de negócio e filtros aplicados.\n",
    "\n",
    "### Tipos de views:\n",
    "- **Views comuns**: dependem do contexto de execução, sendo recalculadas a cada consulta.  \n",
    "- **Materialized Views**: armazenam os resultados para acelerar consultas frequentes, ideais para grandes volumes de dados.\n",
    "\n",
    "As Views são amplamente usadas na camada **Silver** e **Gold** do modelo Medallion para garantir padronização e reuso.\n",
    "\n",
    "---\n",
    "\n",
    "## Volumes\n",
    "\n",
    "Os **Volumes** são áreas de armazenamento gerenciadas pelo Unity Catalog dentro do Data Lake.  \n",
    "Servem para guardar **arquivos brutos ou semiestruturados**, como CSV, JSON, Parquet, imagens ou logs.\n",
    "\n",
    "Eles oferecem:\n",
    "- Controle de acesso via ACLs (Access Control Lists);\n",
    "- Governança unificada sobre arquivos não estruturados;\n",
    "- Integração com workflows de ingestão.\n",
    "\n",
    "Os Volumes são ideais para a **camada Bronze**, onde os dados ainda estão em formato original.\n",
    "\n",
    "---\n",
    "\n",
    "## Functions\n",
    "\n",
    "As **Functions** (ou UDFs – User Defined Functions) permitem encapsular e reutilizar lógicas de transformação.  \n",
    "Podem ser criadas diretamente dentro de um Schema e chamadas por múltiplos notebooks, jobs ou dashboards.\n",
    "\n",
    "Elas são úteis para:\n",
    "- Padronizar cálculos complexos;\n",
    "- Reduzir repetição de lógica SQL;\n",
    "- Facilitar governança e versionamento de transformações.\n",
    "\n",
    "O Unity Catalog garante que as funções tenham **controle de versão**, **segurança** e **auditoria** integrados.\n",
    "\n",
    "---\n",
    "\n",
    "## Models\n",
    "\n",
    "Os **Models** representam modelos de Machine Learning registrados e versionados dentro do Unity Catalog.  \n",
    "Eles são integrados ao **MLflow**, permitindo rastrear:\n",
    "- Versões de modelos;\n",
    "- Autores e datasets usados no treinamento;\n",
    "- Metadados e métricas de performance.\n",
    "\n",
    "Essa integração traz governança também para o ciclo de vida de **Machine Learning (ML Governance)**, garantindo que todo o processo seja rastreável e auditável.\n",
    "\n",
    "---\n",
    "\n",
    "## Resumo Geral\n",
    "\n",
    "| Objeto | Finalidade Principal | Tipo de Dado | Governança | Camada Indicada |\n",
    "|---------|----------------------|---------------|-------------|------------------|\n",
    "| **Table** | Armazenar dados estruturados | Estruturado (Delta) | Total | Bronze, Silver, Gold |\n",
    "| **View** | Criar camada lógica de consulta | Estruturado | Parcial | Silver, Gold |\n",
    "| **Volume** | Armazenar arquivos brutos | Semi ou não estruturado | Total | Bronze |\n",
    "| **Function** | Reutilizar lógica de cálculo | N/A | Total | Todas |\n",
    "| **Model** | Registrar e versionar modelos de ML | Modelo treinado | Total | ML |\n",
    "\n",
    "---\n",
    "\n",
    "## Boas Práticas\n",
    "\n",
    "- Utilize sempre o padrão `<catalog>.<schema>.<objeto>` para nomear.  \n",
    "- Documente os objetos com `COMMENT` para manter a governança viva.  \n",
    "- Prefira **Delta Tables** para tabelas gerenciadas.  \n",
    "- Mantenha **camadas bem definidas**: Bronze (bruto), Silver (tratado), Gold (agregado).  \n",
    "- Centralize a segurança e o acesso no Unity Catalog.  \n",
    "- Crie funções e views para abstrair a lógica de negócio e manter o modelo consistente.\n",
    "\n"
   ]
  },
  {
   "cell_type": "code",
   "execution_count": 0,
   "metadata": {
    "application/vnd.databricks.v1+cell": {
     "cellMetadata": {
      "byteLimit": 2048000,
      "implicitDf": true,
      "rowLimit": 10000
     },
     "inputWidgets": {},
     "nuid": "769e50f6-3557-40ba-8c4d-bd7078b0fbb7",
     "showTitle": false,
     "tableResultSettingsMap": {},
     "title": ""
    }
   },
   "outputs": [],
   "source": [
    "%sql\n",
    "create table demo_catalog.bronze.sales (\n",
    "  sale_id int,\n",
    "  product string,\n",
    "  quantity int,\n",
    "  price double,\n",
    "  sale_date date\n",
    ")\n",
    "using delta\n",
    "comment 'Dados brutos de vendas'"
   ]
  },
  {
   "cell_type": "code",
   "execution_count": 0,
   "metadata": {
    "application/vnd.databricks.v1+cell": {
     "cellMetadata": {
      "byteLimit": 2048000,
      "implicitDf": true,
      "rowLimit": 10000
     },
     "inputWidgets": {},
     "nuid": "b3b1ef72-28cb-4777-b258-709fee3987cd",
     "showTitle": false,
     "tableResultSettingsMap": {},
     "title": ""
    }
   },
   "outputs": [],
   "source": [
    "%sql\n",
    "insert into demo_catalog.bronze.sales (sale_id, product, quantity, price, sale_date)\n",
    "values\n",
    "-- Grupo 1: Notebooks\n",
    "(1, 'Notebook Dell', 1, 5500.00, date'2025-10-01'),\n",
    "(2, 'Notebook Dell', 2, 5200.00, date'2025-10-02'),\n",
    "(3, 'Notebook Dell', 1, 5300.00, date'2025-10-03'),\n",
    "(4, 'Notebook Apple', 3, 10000.00, date'2025-10-04'),\n",
    "(5, 'Notebook Apple', 3, 10000.00, date'2025-10-05'),\n",
    "-- Grupo 2: Monitor\n",
    "(6, 'Monitor Samsung', 2, 1200.00, date'2025-10-06'),\n",
    "(7, 'Monitor Samsung', 1, 1150.00, date'2025-10-07'),\n",
    "(8, 'Monitor LG', 3, 1100.00, date'2025-10-08'),\n",
    "(9, 'Monitor LG', 2, 1050.00, date'2025-10-09'),\n",
    "(10, 'Monitor Dell', 1, 1300.00, date'2025-10-10'),\n",
    "-- Grupo 3: Headset\n",
    "(11, 'Headset Logitech', 2, 350.00, date'2025-10-11'),\n",
    "(12, 'Headset Logitech', 1, 340.00, date'2025-10-12'),\n",
    "(13, 'Headset HyperX', 3, 400.00, date'2025-10-13'),\n",
    "(14, 'Headset HyperX', 2, 390.00, date'2025-10-14'),\n",
    "(15, 'Headset Sony', 1, 420.00, date'2025-10-15')"
   ]
  },
  {
   "cell_type": "code",
   "execution_count": 0,
   "metadata": {
    "application/vnd.databricks.v1+cell": {
     "cellMetadata": {
      "byteLimit": 2048000,
      "implicitDf": true,
      "rowLimit": 10000
     },
     "inputWidgets": {},
     "nuid": "88546995-71a7-4f0b-9eaf-7ca0ec09f762",
     "showTitle": false,
     "tableResultSettingsMap": {},
     "title": ""
    }
   },
   "outputs": [],
   "source": [
    "%sql\n",
    "select * from demo_catalog.bronze.sales"
   ]
  },
  {
   "cell_type": "code",
   "execution_count": 0,
   "metadata": {
    "application/vnd.databricks.v1+cell": {
     "cellMetadata": {
      "byteLimit": 2048000,
      "implicitDf": true,
      "rowLimit": 10000
     },
     "inputWidgets": {},
     "nuid": "141fec7e-dbaa-4adf-9e13-ed867e9bde85",
     "showTitle": false,
     "tableResultSettingsMap": {},
     "title": ""
    }
   },
   "outputs": [],
   "source": [
    "%sql\n",
    "create or replace view demo_catalog.bronze.sales_summary as\n",
    "select\n",
    "  product,\n",
    "  sum(quantity) as total_quantity,\n",
    "  sum(quantity * price) as revenue\n",
    "from\n",
    "  demo_catalog.bronze.sales\n",
    "group by product;"
   ]
  },
  {
   "cell_type": "markdown",
   "metadata": {
    "application/vnd.databricks.v1+cell": {
     "cellMetadata": {},
     "inputWidgets": {},
     "nuid": "ce0c46b9-2af9-4a6d-8c09-507435a26e7c",
     "showTitle": false,
     "tableResultSettingsMap": {},
     "title": ""
    }
   },
   "source": [
    "# Criando Volume(arquivos)"
   ]
  },
  {
   "cell_type": "code",
   "execution_count": 0,
   "metadata": {
    "application/vnd.databricks.v1+cell": {
     "cellMetadata": {
      "byteLimit": 2048000,
      "implicitDf": true,
      "rowLimit": 10000
     },
     "inputWidgets": {},
     "nuid": "84a79582-dfa1-47b3-af44-771eadcf4dea",
     "showTitle": false,
     "tableResultSettingsMap": {},
     "title": ""
    }
   },
   "outputs": [],
   "source": [
    "%sql\n",
    "create volume demo_catalog.bronze.raw_files\n",
    "comment 'Volume para armazenar os arquivos brutos ou de ingestão inicial'"
   ]
  },
  {
   "cell_type": "code",
   "execution_count": 0,
   "metadata": {
    "application/vnd.databricks.v1+cell": {
     "cellMetadata": {},
     "inputWidgets": {},
     "nuid": "7916c294-70db-4091-a329-d48dd2f2809c",
     "showTitle": false,
     "tableResultSettingsMap": {},
     "title": ""
    }
   },
   "outputs": [],
   "source": []
  }
 ],
 "metadata": {
  "application/vnd.databricks.v1+notebook": {
   "computePreferences": null,
   "dashboards": [],
   "environmentMetadata": {
    "base_environment": "",
    "environment_version": "4"
   },
   "inputWidgetPreferences": null,
   "language": "python",
   "notebookMetadata": {
    "mostRecentlyExecutedCommandWithImplicitDF": {
     "commandId": 6531707691045323,
     "dataframes": [
      "_sqldf"
     ]
    },
    "pythonIndentUnit": 4
   },
   "notebookName": "governanca",
   "widgets": {}
  },
  "language_info": {
   "name": "python"
  }
 },
 "nbformat": 4,
 "nbformat_minor": 0
}
