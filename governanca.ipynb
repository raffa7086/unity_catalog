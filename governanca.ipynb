{
 "cells": [
  {
   "cell_type": "markdown",
   "metadata": {
    "application/vnd.databricks.v1+cell": {
     "cellMetadata": {},
     "inputWidgets": {},
     "nuid": "f406c687-0c7f-45ae-8fbe-84bce2320d40",
     "showTitle": false,
     "tableResultSettingsMap": {},
     "title": ""
    }
   },
   "source": [
    "# Criando Catalog\n",
    "- O \"Catalog\" é o nível mais alto de organização no Unity Catalog.\n",
    "- Ele representa uma coleção de schemas (databases) e tabelas dentro de um mesmo domínio lógico.\n",
    "- É como uma \"instância\" de dados dentro do Databricks, usada para separar ambientes (ex: DEV, QAS, PRD)\n",
    "- ou domínios (ex: comercial, financeiro, industrial).\n",
    "- O comando abaixo cria o catálogo \"demo_catalog\" se ele ainda não existir."
   ]
  },
  {
   "cell_type": "code",
   "execution_count": 0,
   "metadata": {
    "application/vnd.databricks.v1+cell": {
     "cellMetadata": {
      "byteLimit": 2048000,
      "implicitDf": true,
      "rowLimit": 10000
     },
     "inputWidgets": {},
     "nuid": "6c59f7fd-0c67-497a-80cc-fbd5227be03e",
     "showTitle": false,
     "tableResultSettingsMap": {},
     "title": ""
    }
   },
   "outputs": [],
   "source": [
    "%sql\n",
    "create catalog if not exists demo_catalog\n",
    "comment 'Catalog de estudo'"
   ]
  },
  {
   "cell_type": "markdown",
   "metadata": {
    "application/vnd.databricks.v1+cell": {
     "cellMetadata": {},
     "inputWidgets": {},
     "nuid": "a4002d85-cf46-4380-95ff-f64b9d6d2a75",
     "showTitle": false,
     "tableResultSettingsMap": {},
     "title": ""
    }
   },
   "source": [
    "# Criando Schema (database) no Catalog\n",
    "- Dentro de cada Catalog, criamos Schemas (ou Databases) para organizar as tabelas.\n",
    "- O Schema \"bronze\" segue a arquitetura medallion (Bronze, Silver, Gold).\n",
    "- Aqui armazenaremos os dados brutos, exatamente como foram ingeridos das fontes originais.\n",
    "- O comando cria o schema \"demo_catalog.bronze\" caso ele não exista."
   ]
  },
  {
   "cell_type": "code",
   "execution_count": 0,
   "metadata": {
    "application/vnd.databricks.v1+cell": {
     "cellMetadata": {
      "byteLimit": 2048000,
      "implicitDf": true,
      "rowLimit": 10000
     },
     "inputWidgets": {},
     "nuid": "e417c8ab-d859-46f6-be44-25301dee9a6b",
     "showTitle": false,
     "tableResultSettingsMap": {},
     "title": ""
    }
   },
   "outputs": [],
   "source": [
    "%sql\n",
    "create schema if not exists demo_catalog.bronze\n",
    "comment 'Schema Bronze para os dados brutos'"
   ]
  },
  {
   "cell_type": "code",
   "execution_count": 0,
   "metadata": {
    "application/vnd.databricks.v1+cell": {
     "cellMetadata": {
      "byteLimit": 2048000,
      "implicitDf": true,
      "rowLimit": 10000
     },
     "inputWidgets": {},
     "nuid": "f8a7d759-132c-4989-8dd0-0825e44a2738",
     "showTitle": false,
     "tableResultSettingsMap": {},
     "title": ""
    }
   },
   "outputs": [],
   "source": [
    "%sql\n",
    "create schema if not exists demo_catalog.silver\n",
    "comment 'Schema Silver para dados tratados'"
   ]
  },
  {
   "cell_type": "code",
   "execution_count": 0,
   "metadata": {
    "application/vnd.databricks.v1+cell": {
     "cellMetadata": {
      "byteLimit": 2048000,
      "implicitDf": true,
      "rowLimit": 10000
     },
     "inputWidgets": {},
     "nuid": "4554106b-756b-4ab0-b227-9eee227cf72b",
     "showTitle": false,
     "tableResultSettingsMap": {},
     "title": ""
    }
   },
   "outputs": [],
   "source": [
    "%sql\n",
    "create schema if not exists demo_catalog.gold\n",
    "comment 'Schema Gold para dados agregados que serão utilizados pelas áreas de negócio'"
   ]
  },
  {
   "cell_type": "markdown",
   "metadata": {
    "application/vnd.databricks.v1+cell": {
     "cellMetadata": {},
     "inputWidgets": {},
     "nuid": "30715989-539b-462b-a853-97a5d8937af4",
     "showTitle": false,
     "tableResultSettingsMap": {},
     "title": ""
    }
   },
   "source": [
    "# Criando Tabelas, Views, Volumes, Functions e Models\n",
    "\n",
    "Dentro de cada **Schema** do Unity Catalog, podemos criar diferentes tipos de **objetos de dados e processamento**.  \n",
    "Esses objetos formam a base do Lakehouse e representam o ciclo completo da ingestão ao consumo analítico.\n",
    "\n",
    "---\n",
    "\n",
    "\n",
    "Essa estrutura garante:\n",
    "\n",
    "- **Isolamento lógico** entre ambientes (DEV, QAS, PRD) ou domínios (financeiro, logística, comercial);\n",
    "- **Governança centralizada** de acessos e permissões (ACLs);\n",
    "- **Auditoria e lineage automáticos**, registrando quem criou, modificou e consultou os objetos;\n",
    "- **Consistência e versionamento** de dados.\n",
    "\n",
    "---\n",
    "\n",
    "## Tabelas (Tables)\n",
    "\n",
    "As **tabelas** são os principais objetos de armazenamento de dados.  \n",
    "Elas podem conter dados **estruturados** (como colunas e linhas) e são integradas ao Delta Lake para garantir confiabilidade e performance.\n",
    "\n",
    "### Tipos de tabelas:\n",
    "- **Managed Tables**: o Databricks gerencia tanto os metadados quanto a localização física dos arquivos.  \n",
    "- **External Tables**: a tabela referencia arquivos já existentes em um local externo (por exemplo, um caminho no Data Lake).\n",
    "\n",
    "Essas tabelas herdam automaticamente as políticas de segurança e controle de acesso definidas no Unity Catalog, além de participar do lineage e da auditoria.\n",
    "\n",
    "---\n",
    "\n",
    "## Views\n",
    "\n",
    "As **Views** são representações lógicas dos dados, baseadas em consultas SQL sobre tabelas existentes.  \n",
    "Elas não armazenam fisicamente os dados, mas permitem criar **camadas virtuais** com regras de negócio e filtros aplicados.\n",
    "\n",
    "### Tipos de views:\n",
    "- **Views comuns**: dependem do contexto de execução, sendo recalculadas a cada consulta.  \n",
    "- **Materialized Views**: armazenam os resultados para acelerar consultas frequentes, ideais para grandes volumes de dados.\n",
    "\n",
    "As Views são amplamente usadas na camada **Silver** e **Gold** do modelo Medallion para garantir padronização e reuso.\n",
    "\n",
    "---\n",
    "\n",
    "## Volumes\n",
    "\n",
    "Os **Volumes** são áreas de armazenamento gerenciadas pelo Unity Catalog dentro do Data Lake.  \n",
    "Servem para guardar **arquivos brutos ou semiestruturados**, como CSV, JSON, Parquet, imagens ou logs.\n",
    "\n",
    "Eles oferecem:\n",
    "- Controle de acesso via ACLs (Access Control Lists);\n",
    "- Governança unificada sobre arquivos não estruturados;\n",
    "- Integração com workflows de ingestão.\n",
    "\n",
    "Os Volumes são ideais para a **camada Bronze**, onde os dados ainda estão em formato original.\n",
    "\n",
    "---\n",
    "\n",
    "## Functions\n",
    "\n",
    "As **Functions** (ou UDFs – User Defined Functions) permitem encapsular e reutilizar lógicas de transformação.  \n",
    "Podem ser criadas diretamente dentro de um Schema e chamadas por múltiplos notebooks, jobs ou dashboards.\n",
    "\n",
    "Elas são úteis para:\n",
    "- Padronizar cálculos complexos;\n",
    "- Reduzir repetição de lógica SQL;\n",
    "- Facilitar governança e versionamento de transformações.\n",
    "\n",
    "O Unity Catalog garante que as funções tenham **controle de versão**, **segurança** e **auditoria** integrados.\n",
    "\n",
    "---\n",
    "\n",
    "## Models\n",
    "\n",
    "Os **Models** representam modelos de Machine Learning registrados e versionados dentro do Unity Catalog.  \n",
    "Eles são integrados ao **MLflow**, permitindo rastrear:\n",
    "- Versões de modelos;\n",
    "- Autores e datasets usados no treinamento;\n",
    "- Metadados e métricas de performance.\n",
    "\n",
    "Essa integração traz governança também para o ciclo de vida de **Machine Learning (ML Governance)**, garantindo que todo o processo seja rastreável e auditável.\n",
    "\n",
    "---\n",
    "\n",
    "## Resumo Geral\n",
    "\n",
    "| Objeto | Finalidade Principal | Tipo de Dado | Governança | Camada Indicada |\n",
    "|---------|----------------------|---------------|-------------|------------------|\n",
    "| **Table** | Armazenar dados estruturados | Estruturado (Delta) | Total | Bronze, Silver, Gold |\n",
    "| **View** | Criar camada lógica de consulta | Estruturado | Parcial | Silver, Gold |\n",
    "| **Volume** | Armazenar arquivos brutos | Semi ou não estruturado | Total | Bronze |\n",
    "| **Function** | Reutilizar lógica de cálculo | N/A | Total | Todas |\n",
    "| **Model** | Registrar e versionar modelos de ML | Modelo treinado | Total | ML |\n",
    "\n",
    "---\n",
    "\n",
    "## Boas Práticas\n",
    "\n",
    "- Utilize sempre o padrão `<catalog>.<schema>.<objeto>` para nomear.  \n",
    "- Documente os objetos com `COMMENT` para manter a governança viva.  \n",
    "- Prefira **Delta Tables** para tabelas gerenciadas.  \n",
    "- Mantenha **camadas bem definidas**: Bronze (bruto), Silver (tratado), Gold (agregado).  \n",
    "- Centralize a segurança e o acesso no Unity Catalog.  \n",
    "- Crie funções e views para abstrair a lógica de negócio e manter o modelo consistente.\n",
    "\n"
   ]
  },
  {
   "cell_type": "code",
   "execution_count": 0,
   "metadata": {
    "application/vnd.databricks.v1+cell": {
     "cellMetadata": {
      "byteLimit": 2048000,
      "implicitDf": true,
      "rowLimit": 10000
     },
     "inputWidgets": {},
     "nuid": "769e50f6-3557-40ba-8c4d-bd7078b0fbb7",
     "showTitle": false,
     "tableResultSettingsMap": {},
     "title": ""
    }
   },
   "outputs": [],
   "source": [
    "%sql\n",
    "create table demo_catalog.bronze.sales (\n",
    "  sale_id int,\n",
    "  product string,\n",
    "  quantity int,\n",
    "  price double,\n",
    "  sale_date date\n",
    ")\n",
    "using delta\n",
    "comment 'Dados brutos de vendas'"
   ]
  },
  {
   "cell_type": "code",
   "execution_count": 0,
   "metadata": {
    "application/vnd.databricks.v1+cell": {
     "cellMetadata": {
      "byteLimit": 2048000,
      "implicitDf": true,
      "rowLimit": 10000
     },
     "inputWidgets": {},
     "nuid": "b3b1ef72-28cb-4777-b258-709fee3987cd",
     "showTitle": false,
     "tableResultSettingsMap": {},
     "title": ""
    }
   },
   "outputs": [],
   "source": [
    "%sql\n",
    "insert into demo_catalog.bronze.sales (sale_id, product, quantity, price, sale_date)\n",
    "values\n",
    "-- Grupo 1: Notebooks\n",
    "(1, 'Notebook Dell', 1, 5500.00, date'2025-10-01'),\n",
    "(2, 'Notebook Dell', 2, 5200.00, date'2025-10-02'),\n",
    "(3, 'Notebook Dell', 1, 5300.00, date'2025-10-03'),\n",
    "(4, 'Notebook Apple', 3, 10000.00, date'2025-10-04'),\n",
    "(5, 'Notebook Apple', 3, 10000.00, date'2025-10-05'),\n",
    "-- Grupo 2: Monitor\n",
    "(6, 'Monitor Samsung', 2, 1200.00, date'2025-10-06'),\n",
    "(7, 'Monitor Samsung', 1, 1150.00, date'2025-10-07'),\n",
    "(8, 'Monitor LG', 3, 1100.00, date'2025-10-08'),\n",
    "(9, 'Monitor LG', 2, 1050.00, date'2025-10-09'),\n",
    "(10, 'Monitor Dell', 1, 1300.00, date'2025-10-10'),\n",
    "-- Grupo 3: Headset\n",
    "(11, 'Headset Logitech', 2, 350.00, date'2025-10-11'),\n",
    "(12, 'Headset Logitech', 1, 340.00, date'2025-10-12'),\n",
    "(13, 'Headset HyperX', 3, 400.00, date'2025-10-13'),\n",
    "(14, 'Headset HyperX', 2, 390.00, date'2025-10-14'),\n",
    "(15, 'Headset Sony', 1, 420.00, date'2025-10-15')"
   ]
  },
  {
   "cell_type": "code",
   "execution_count": 0,
   "metadata": {
    "application/vnd.databricks.v1+cell": {
     "cellMetadata": {
      "byteLimit": 2048000,
      "implicitDf": true,
      "rowLimit": 10000
     },
     "inputWidgets": {},
     "nuid": "88546995-71a7-4f0b-9eaf-7ca0ec09f762",
     "showTitle": false,
     "tableResultSettingsMap": {},
     "title": ""
    }
   },
   "outputs": [],
   "source": [
    "%sql\n",
    "select * from demo_catalog.bronze.sales"
   ]
  },
  {
   "cell_type": "code",
   "execution_count": 0,
   "metadata": {
    "application/vnd.databricks.v1+cell": {
     "cellMetadata": {
      "byteLimit": 2048000,
      "implicitDf": true,
      "rowLimit": 10000
     },
     "inputWidgets": {},
     "nuid": "141fec7e-dbaa-4adf-9e13-ed867e9bde85",
     "showTitle": false,
     "tableResultSettingsMap": {},
     "title": ""
    }
   },
   "outputs": [],
   "source": [
    "%sql\n",
    "create or replace view demo_catalog.bronze.sales_summary as\n",
    "select\n",
    "  product,\n",
    "  sum(quantity) as total_quantity,\n",
    "  sum(quantity * price) as revenue\n",
    "from\n",
    "  demo_catalog.bronze.sales\n",
    "group by product;"
   ]
  },
  {
   "cell_type": "markdown",
   "metadata": {
    "application/vnd.databricks.v1+cell": {
     "cellMetadata": {},
     "inputWidgets": {},
     "nuid": "ce0c46b9-2af9-4a6d-8c09-507435a26e7c",
     "showTitle": false,
     "tableResultSettingsMap": {},
     "title": ""
    }
   },
   "source": [
    "# Criando Volume(arquivos)"
   ]
  },
  {
   "cell_type": "code",
   "execution_count": 0,
   "metadata": {
    "application/vnd.databricks.v1+cell": {
     "cellMetadata": {
      "byteLimit": 2048000,
      "implicitDf": true,
      "rowLimit": 10000
     },
     "inputWidgets": {},
     "nuid": "84a79582-dfa1-47b3-af44-771eadcf4dea",
     "showTitle": false,
     "tableResultSettingsMap": {},
     "title": ""
    }
   },
   "outputs": [],
   "source": [
    "%sql\n",
    "create volume demo_catalog.bronze.raw_files\n",
    "comment 'Volume para armazenar os arquivos brutos ou de ingestão inicial'"
   ]
  },
  {
   "cell_type": "code",
   "execution_count": 0,
   "metadata": {
    "application/vnd.databricks.v1+cell": {
     "cellMetadata": {
      "byteLimit": 2048000,
      "rowLimit": 10000
     },
     "inputWidgets": {},
     "nuid": "7916c294-70db-4091-a329-d48dd2f2809c",
     "showTitle": false,
     "tableResultSettingsMap": {},
     "title": ""
    }
   },
   "outputs": [],
   "source": [
    "from PIL import Image\n",
    "\n",
    "path = '/Volumes/demo_catalog/bronze/raw_files/dopamina.png'\n",
    "img = Image.open(path)\n",
    "display (img)"
   ]
  },
  {
   "cell_type": "code",
   "execution_count": 0,
   "metadata": {
    "application/vnd.databricks.v1+cell": {
     "cellMetadata": {
      "byteLimit": 2048000,
      "rowLimit": 10000
     },
     "inputWidgets": {},
     "nuid": "93679670-3cfa-43fb-b4d6-2607eab4d75d",
     "showTitle": false,
     "tableResultSettingsMap": {},
     "title": ""
    }
   },
   "outputs": [],
   "source": [
    "print(img.format, img.size, img.mode)"
   ]
  },
  {
   "cell_type": "markdown",
   "metadata": {
    "application/vnd.databricks.v1+cell": {
     "cellMetadata": {},
     "inputWidgets": {},
     "nuid": "45056b7e-ce2d-4b3d-8bd5-0fe50d7f8161",
     "showTitle": false,
     "tableResultSettingsMap": {},
     "title": ""
    }
   },
   "source": [
    "## Biblioteca que será utlizada para predizer o que pode ser a imagem que será passada"
   ]
  },
  {
   "cell_type": "code",
   "execution_count": 0,
   "metadata": {
    "application/vnd.databricks.v1+cell": {
     "cellMetadata": {
      "byteLimit": 2048000,
      "rowLimit": 10000
     },
     "inputWidgets": {},
     "nuid": "df5847f3-b71e-4a55-9c46-b10339528026",
     "showTitle": false,
     "tableResultSettingsMap": {},
     "title": ""
    }
   },
   "outputs": [],
   "source": [
    "%pip install torch torchvision"
   ]
  },
  {
   "cell_type": "code",
   "execution_count": 0,
   "metadata": {
    "application/vnd.databricks.v1+cell": {
     "cellMetadata": {
      "byteLimit": 2048000,
      "rowLimit": 10000
     },
     "inputWidgets": {},
     "nuid": "970bc460-c659-438a-aa5d-8c2fc04fc7ed",
     "showTitle": false,
     "tableResultSettingsMap": {},
     "title": ""
    }
   },
   "outputs": [],
   "source": [
    "import torch\n",
    "from torchvision import models, transforms\n",
    "import urllib.request\n",
    "\n",
    "# Carregar rótulos do ImageNet\n",
    "labels_url = 'https://raw.githubusercontent.com/pytorch/hub/master/imagenet_classes.txt'\n",
    "Imagenet_labels = urllib.request.urlopen(labels_url).read().decode('utf-8').splitlines()\n",
    "\n",
    "# Pré processamento padrão do ResNet\n",
    "preprocess = transforms.Compose([\n",
    "    transforms.Resize(256),\n",
    "    transforms.CenterCrop(224),\n",
    "    transforms.ToTensor(),\n",
    "    transforms.Normalize(mean=[0.485, 0.456, 0.406], \n",
    "                         std=[0.229, 0.224, 0.225])\n",
    "])\n",
    "\n",
    "# Carregar imagem e preparar tensor\n",
    "input_tensor = preprocess(Image.open(path).convert('RGB')).unsqueeze(0)\n",
    "\n",
    "# Modelo pré-treinado\n",
    "model = models.resnet18(weights=models.ResNet18_Weights.DEFAULT)\n",
    "model.eval()\n",
    "\n",
    "# Realizar inferência\n",
    "with torch.no_grad():\n",
    "    logits = model(input_tensor)\n",
    "    probs = torch.nn.functional.softmax(logits, dim=1)[0]\n",
    "\n",
    "topk = torch.topk(probs, k=5)\n",
    "top5 = [(Imagenet_labels[idx], float(probs[idx])) for idx in topk.indices.tolist()]\n",
    "top5"
   ]
  },
  {
   "cell_type": "code",
   "execution_count": 0,
   "metadata": {
    "application/vnd.databricks.v1+cell": {
     "cellMetadata": {
      "byteLimit": 2048000,
      "rowLimit": 10000
     },
     "inputWidgets": {},
     "nuid": "3fa9f695-c1c8-4212-b0c1-4fa480f3e81f",
     "showTitle": false,
     "tableResultSettingsMap": {},
     "title": ""
    }
   },
   "outputs": [],
   "source": [
    "from pyspark.sql import Row\n",
    "import json\n",
    "\n",
    "predction = Row(\n",
    "    file_path = path,\n",
    "    top1_label = top5[0][0],\n",
    "    top1_prob = top5[0][1],\n",
    "    top5_json = json.dumps(top5)\n",
    ")\n",
    "\n",
    "spark.createDataFrame([predction])\\\n",
    "    .write.mode('append')\\\n",
    "    .saveAsTable('demo_catalog.bronze.image_predctions')"
   ]
  },
  {
   "cell_type": "markdown",
   "metadata": {
    "application/vnd.databricks.v1+cell": {
     "cellMetadata": {},
     "inputWidgets": {},
     "nuid": "95a70f39-b6b8-4997-b0c7-f890e95be62c",
     "showTitle": false,
     "tableResultSettingsMap": {},
     "title": ""
    }
   },
   "source": [
    "## Trabalhar com arquivos csv, json e parquet\n",
    "\n",
    "\n",
    "#### Ler e exibir os dados diretamente"
   ]
  },
  {
   "cell_type": "code",
   "execution_count": 0,
   "metadata": {
    "application/vnd.databricks.v1+cell": {
     "cellMetadata": {
      "byteLimit": 2048000,
      "rowLimit": 10000
     },
     "inputWidgets": {},
     "nuid": "d594a39b-61c7-4700-a593-292bed415a58",
     "showTitle": false,
     "tableResultSettingsMap": {},
     "title": ""
    }
   },
   "outputs": [],
   "source": [
    "# == Parquet ==\n",
    "df_parquet = spark.read.parquet('/Volumes/demo_catalog/bronze/raw_files/dados.parquet')\n",
    "print('✅ PARQUET:')\n",
    "df_parquet.show(truncate=False)\n",
    "\n",
    "# == CSV ==\n",
    "df_csv = (\n",
    "    spark.read\n",
    "    .option('header', True)\n",
    "    .option('inferSchema', True)\n",
    "    .csv('/Volumes/demo_catalog/bronze/raw_files/dados.csv')\n",
    ")\n",
    "print('✅ CSV:')\n",
    "df_csv.show(truncate=False)\n",
    "\n",
    "# == JSON ==\n",
    "df_json = spark.read.json('/Volumes/demo_catalog/bronze/raw_files/dados.json')\n",
    "print('✅ JSON:')\n",
    "df_json.show(truncate=False)"
   ]
  },
  {
   "cell_type": "markdown",
   "metadata": {
    "application/vnd.databricks.v1+cell": {
     "cellMetadata": {},
     "inputWidgets": {},
     "nuid": "ac08a423-6749-4b53-9db5-4412d9edab6a",
     "showTitle": false,
     "tableResultSettingsMap": {},
     "title": ""
    }
   },
   "source": [
    "# Fazer queries SQL com DataFrame API"
   ]
  },
  {
   "cell_type": "code",
   "execution_count": 0,
   "metadata": {
    "application/vnd.databricks.v1+cell": {
     "cellMetadata": {},
     "inputWidgets": {},
     "nuid": "bceb415e-b981-4265-9431-f0c0e7ca442e",
     "showTitle": false,
     "tableResultSettingsMap": {},
     "title": ""
    }
   },
   "outputs": [],
   "source": [
    "# Exemplo de SELECT * (todos os dados)\n",
    "df_parquet.select('*').show()\n",
    "\n",
    "# Exemplo de SELECT específico\n",
    "df_parquet.select('id', 'nome', 'salario').show()\n",
    "\n",
    "# Exemplo com filtro (WHERE)\n",
    "df_parquet.filter(df_parquet.salario > 9000).select('nome', 'salario').show()"
   ]
  },
  {
   "cell_type": "code",
   "execution_count": 0,
   "metadata": {
    "application/vnd.databricks.v1+cell": {
     "cellMetadata": {
      "byteLimit": 2048000,
      "rowLimit": 10000
     },
     "inputWidgets": {},
     "nuid": "8bdbf4b3-cc4e-4f9b-b516-5cd9c42bf295",
     "showTitle": false,
     "tableResultSettingsMap": {},
     "title": ""
    }
   },
   "outputs": [],
   "source": [
    "# Exemplo de SELECT * (todos os dados)\n",
    "df_parquet.select('*').show()"
   ]
  },
  {
   "cell_type": "code",
   "execution_count": 0,
   "metadata": {
    "application/vnd.databricks.v1+cell": {
     "cellMetadata": {
      "byteLimit": 2048000,
      "rowLimit": 10000
     },
     "inputWidgets": {},
     "nuid": "12b8f39b-946c-4a08-affd-01c05a874450",
     "showTitle": false,
     "tableResultSettingsMap": {},
     "title": ""
    }
   },
   "outputs": [],
   "source": [
    "# Exemplo de SELECT específico\n",
    "df_parquet.select('id', 'nome', 'salario').show()"
   ]
  },
  {
   "cell_type": "code",
   "execution_count": 0,
   "metadata": {
    "application/vnd.databricks.v1+cell": {
     "cellMetadata": {
      "byteLimit": 2048000,
      "rowLimit": 10000
     },
     "inputWidgets": {},
     "nuid": "5997da5e-a041-412d-843f-fbcf5535f8ed",
     "showTitle": false,
     "tableResultSettingsMap": {},
     "title": ""
    }
   },
   "outputs": [],
   "source": [
    "# Exemplo com filtro (WHERE)\n",
    "df_parquet.filter(df_parquet.salario > 9000).select('nome', 'salario').show()"
   ]
  },
  {
   "cell_type": "markdown",
   "metadata": {
    "application/vnd.databricks.v1+cell": {
     "cellMetadata": {},
     "inputWidgets": {},
     "nuid": "f4a13595-a3ed-42b6-9544-f7d057fd712a",
     "showTitle": false,
     "tableResultSettingsMap": {},
     "title": ""
    }
   },
   "source": [
    "#Salvando os volumes em views\n",
    "\n",
    "\n",
    "- Use createOrReplaceTempView quando:\n",
    "\n",
    "- Consultar um DataFrame via SQL de forma rápida.\n",
    "\n",
    "- Precisar dividir uma transformação complexa em várias etapas lógicas, usando SQL intermediário.\n",
    "\n",
    "- Testando, explorando ou depurando dados antes de salvar o resultado final em tabela permanente.\n",
    "\n",
    "- Reaproveitar uma transformação sem recomputar o DataFrame manualmente. "
   ]
  },
  {
   "cell_type": "code",
   "execution_count": 0,
   "metadata": {
    "application/vnd.databricks.v1+cell": {
     "cellMetadata": {
      "byteLimit": 2048000,
      "rowLimit": 10000
     },
     "inputWidgets": {},
     "nuid": "4840cb57-fe49-4495-a1c7-641989d6f612",
     "showTitle": false,
     "tableResultSettingsMap": {},
     "title": ""
    }
   },
   "outputs": [],
   "source": [
    "# Ler parquet\n",
    "df_parquet = spark.read.parquet('/Volumes/demo_catalog/bronze/raw_files/dados.parquet')\n",
    "df_parquet.createOrReplaceTempView('vw_parquet')\n",
    "\n",
    "# Ler CSV\n",
    "df_csv = (\n",
    "    spark.read\n",
    "    .option('header', True)\n",
    "    .option('inferSchema', True)\n",
    "    .csv('/Volumes/demo_catalog/bronze/raw_files/dados.csv')\n",
    ")\n",
    "df_csv.createOrReplaceTempView('vw_csv')\n",
    "\n",
    "# Ler JSON\n",
    "df_json = spark.read.json('/Volumes/demo_catalog/bronze/raw_files/dados.json')\n",
    "df_json.createOrReplaceTempView('vw_json')\n"
   ]
  },
  {
   "cell_type": "code",
   "execution_count": 0,
   "metadata": {
    "application/vnd.databricks.v1+cell": {
     "cellMetadata": {
      "byteLimit": 2048000,
      "implicitDf": true,
      "rowLimit": 10000
     },
     "inputWidgets": {},
     "nuid": "2491c7e1-04d8-4596-b8a0-f210c7f6f45f",
     "showTitle": false,
     "tableResultSettingsMap": {},
     "title": ""
    }
   },
   "outputs": [],
   "source": [
    "%sql\n",
    "select * from vw_parquet"
   ]
  },
  {
   "cell_type": "markdown",
   "metadata": {
    "application/vnd.databricks.v1+cell": {
     "cellMetadata": {},
     "inputWidgets": {},
     "nuid": "29d0de5a-1e42-4872-ae4c-ec7f89baf115",
     "showTitle": false,
     "tableResultSettingsMap": {},
     "title": ""
    }
   },
   "source": [
    "# Criar uma função SQL no Unity Catalog\n",
    "\n",
    "Ideal quando a lógica é simples (ex: cálculo, concatenção, formatação)"
   ]
  },
  {
   "cell_type": "code",
   "execution_count": 0,
   "metadata": {
    "application/vnd.databricks.v1+cell": {
     "cellMetadata": {
      "byteLimit": 2048000,
      "implicitDf": true,
      "rowLimit": 10000
     },
     "inputWidgets": {},
     "nuid": "c79d9002-5faa-4db1-9189-04ffb850a63d",
     "showTitle": false,
     "tableResultSettingsMap": {},
     "title": ""
    }
   },
   "outputs": [],
   "source": [
    "%sql\n",
    "create or replace function demo_catalog.bronze.calc_bonus(salario double, percentual double)\n",
    "returns double\n",
    "comment 'Calcula bônus de acordo com o percentual informado'\n",
    "return salario * (percentual / 100);"
   ]
  },
  {
   "cell_type": "code",
   "execution_count": 0,
   "metadata": {
    "application/vnd.databricks.v1+cell": {
     "cellMetadata": {
      "byteLimit": 2048000,
      "implicitDf": true,
      "rowLimit": 10000
     },
     "inputWidgets": {},
     "nuid": "41cf8337-08f4-4b57-ad52-bd648dd8ad0a",
     "showTitle": false,
     "tableResultSettingsMap": {},
     "title": ""
    }
   },
   "outputs": [],
   "source": [
    "%sql\n",
    "use catalog demo_catalog;\n",
    "use schema bronze;\n"
   ]
  },
  {
   "cell_type": "code",
   "execution_count": 0,
   "metadata": {
    "application/vnd.databricks.v1+cell": {
     "cellMetadata": {
      "byteLimit": 2048000,
      "implicitDf": true,
      "rowLimit": 10000
     },
     "inputWidgets": {},
     "nuid": "4b8ca9ed-0c4f-4311-8d63-6242d034122e",
     "showTitle": false,
     "tableResultSettingsMap": {
      "0": {
       "dataGridStateBlob": "{\"version\":1,\"tableState\":{\"columnPinning\":{\"left\":[\"#row_number#\"],\"right\":[]},\"columnSizing\":{\"bonus\":146},\"columnVisibility\":{}},\"settings\":{\"columns\":{}},\"syncTimestamp\":1761937847149}",
       "filterBlob": null,
       "queryPlanFiltersBlob": null,
       "tableResultIndex": 0
      }
     },
     "title": ""
    }
   },
   "outputs": [],
   "source": [
    "%sql\n",
    "select\n",
    "  nome,\n",
    "  salario,\n",
    "  calc_bonus(salario, 10) as bonus\n",
    "from\n",
    "  vw_parquet"
   ]
  }
 ],
 "metadata": {
  "application/vnd.databricks.v1+notebook": {
   "computePreferences": null,
   "dashboards": [],
   "environmentMetadata": {
    "base_environment": "",
    "environment_version": "4"
   },
   "inputWidgetPreferences": null,
   "language": "python",
   "notebookMetadata": {
    "mostRecentlyExecutedCommandWithImplicitDF": {
     "commandId": 8048171846086463,
     "dataframes": [
      "_sqldf"
     ]
    },
    "pythonIndentUnit": 4
   },
   "notebookName": "governanca",
   "widgets": {}
  },
  "language_info": {
   "name": "python"
  }
 },
 "nbformat": 4,
 "nbformat_minor": 0
}
